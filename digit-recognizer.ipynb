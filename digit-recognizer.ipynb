{
 "cells": [
  {
   "cell_type": "code",
   "execution_count": 1,
   "id": "dd851745",
   "metadata": {
    "_cell_guid": "b1076dfc-b9ad-4769-8c92-a6c4dae69d19",
    "_uuid": "8f2839f25d086af736a60e9eeb907d3b93b6e0e5",
    "execution": {
     "iopub.execute_input": "2023-01-21T20:54:36.162731Z",
     "iopub.status.busy": "2023-01-21T20:54:36.162279Z",
     "iopub.status.idle": "2023-01-21T20:54:36.176289Z",
     "shell.execute_reply": "2023-01-21T20:54:36.174840Z"
    },
    "papermill": {
     "duration": 0.023027,
     "end_time": "2023-01-21T20:54:36.179503",
     "exception": false,
     "start_time": "2023-01-21T20:54:36.156476",
     "status": "completed"
    },
    "tags": []
   },
   "outputs": [
    {
     "name": "stdout",
     "output_type": "stream",
     "text": [
      "/kaggle/input/digit-recognizer/sample_submission.csv\n",
      "/kaggle/input/digit-recognizer/train.csv\n",
      "/kaggle/input/digit-recognizer/test.csv\n"
     ]
    }
   ],
   "source": [
    "# This Python 3 environment comes with many helpful analytics libraries installed\n",
    "# It is defined by the kaggle/python Docker image: https://github.com/kaggle/docker-python\n",
    "# For example, here's several helpful packages to load\n",
    "\n",
    "import numpy as np # linear algebra\n",
    "import pandas as pd # data processing, CSV file I/O (e.g. pd.read_csv)\n",
    "\n",
    "# Input data files are available in the read-only \"../input/\" directory\n",
    "# For example, running this (by clicking run or pressing Shift+Enter) will list all files under the input directory\n",
    "\n",
    "import os\n",
    "for dirname, _, filenames in os.walk('/kaggle/input'):\n",
    "    for filename in filenames:\n",
    "        print(os.path.join(dirname, filename))\n",
    "\n",
    "# You can write up to 20GB to the current directory (/kaggle/working/) that gets preserved as output when you create a version using \"Save & Run All\" \n",
    "# You can also write temporary files to /kaggle/temp/, but they won't be saved outside of the current session"
   ]
  },
  {
   "cell_type": "code",
   "execution_count": 2,
   "id": "5cea8fd3",
   "metadata": {
    "execution": {
     "iopub.execute_input": "2023-01-21T20:54:36.187795Z",
     "iopub.status.busy": "2023-01-21T20:54:36.187407Z",
     "iopub.status.idle": "2023-01-21T20:54:39.944361Z",
     "shell.execute_reply": "2023-01-21T20:54:39.943154Z"
    },
    "papermill": {
     "duration": 3.764163,
     "end_time": "2023-01-21T20:54:39.946998",
     "exception": false,
     "start_time": "2023-01-21T20:54:36.182835",
     "status": "completed"
    },
    "tags": []
   },
   "outputs": [],
   "source": [
    "train='/kaggle/input/digit-recognizer/train.csv'\n",
    "test='/kaggle/input/digit-recognizer/test.csv'\n",
    "\n",
    "training_set = pd.read_csv(train)"
   ]
  },
  {
   "cell_type": "code",
   "execution_count": 3,
   "id": "b2c2aed6",
   "metadata": {
    "execution": {
     "iopub.execute_input": "2023-01-21T20:54:39.954874Z",
     "iopub.status.busy": "2023-01-21T20:54:39.954503Z",
     "iopub.status.idle": "2023-01-21T20:54:40.071648Z",
     "shell.execute_reply": "2023-01-21T20:54:40.070502Z"
    },
    "papermill": {
     "duration": 0.124168,
     "end_time": "2023-01-21T20:54:40.074241",
     "exception": false,
     "start_time": "2023-01-21T20:54:39.950073",
     "status": "completed"
    },
    "tags": []
   },
   "outputs": [],
   "source": [
    "#training_set.shape\n",
    "#training_set.head\n",
    "\n",
    "X= training_set.drop(columns=['label'])\n",
    "y= training_set['label']\n",
    "#X.head"
   ]
  },
  {
   "cell_type": "code",
   "execution_count": 4,
   "id": "238d463a",
   "metadata": {
    "execution": {
     "iopub.execute_input": "2023-01-21T20:54:40.082390Z",
     "iopub.status.busy": "2023-01-21T20:54:40.081974Z",
     "iopub.status.idle": "2023-01-21T20:56:39.302597Z",
     "shell.execute_reply": "2023-01-21T20:56:39.301417Z"
    },
    "papermill": {
     "duration": 119.22754,
     "end_time": "2023-01-21T20:56:39.305123",
     "exception": false,
     "start_time": "2023-01-21T20:54:40.077583",
     "status": "completed"
    },
    "tags": []
   },
   "outputs": [
    {
     "name": "stderr",
     "output_type": "stream",
     "text": [
      "2023-01-21 20:54:46.433108: I tensorflow/core/common_runtime/process_util.cc:146] Creating new thread pool with default inter op setting: 2. Tune using inter_op_parallelism_threads for best performance.\n",
      "2023-01-21 20:54:47.141682: I tensorflow/compiler/mlir/mlir_graph_optimization_pass.cc:185] None of the MLIR Optimization Passes are enabled (registered 2)\n"
     ]
    },
    {
     "name": "stdout",
     "output_type": "stream",
     "text": [
      "Epoch 1/15\n",
      "1313/1313 [==============================] - 8s 5ms/step - loss: 0.7700\n",
      "Epoch 2/15\n",
      "1313/1313 [==============================] - 7s 6ms/step - loss: 0.1949\n",
      "Epoch 3/15\n",
      "1313/1313 [==============================] - 8s 6ms/step - loss: 0.1568\n",
      "Epoch 4/15\n",
      "1313/1313 [==============================] - 7s 6ms/step - loss: 0.1353\n",
      "Epoch 5/15\n",
      "1313/1313 [==============================] - 7s 6ms/step - loss: 0.1141\n",
      "Epoch 6/15\n",
      "1313/1313 [==============================] - 7s 6ms/step - loss: 0.1011\n",
      "Epoch 7/15\n",
      "1313/1313 [==============================] - 8s 6ms/step - loss: 0.0876\n",
      "Epoch 8/15\n",
      "1313/1313 [==============================] - 7s 5ms/step - loss: 0.0765\n",
      "Epoch 9/15\n",
      "1313/1313 [==============================] - 7s 6ms/step - loss: 0.0721\n",
      "Epoch 10/15\n",
      "1313/1313 [==============================] - 7s 6ms/step - loss: 0.0636\n",
      "Epoch 11/15\n",
      "1313/1313 [==============================] - 8s 6ms/step - loss: 0.0594\n",
      "Epoch 12/15\n",
      "1313/1313 [==============================] - 8s 6ms/step - loss: 0.0508\n",
      "Epoch 13/15\n",
      "1313/1313 [==============================] - 7s 6ms/step - loss: 0.0525\n",
      "Epoch 14/15\n",
      "1313/1313 [==============================] - 7s 5ms/step - loss: 0.0391\n",
      "Epoch 15/15\n",
      "1313/1313 [==============================] - 7s 6ms/step - loss: 0.0391\n"
     ]
    },
    {
     "data": {
      "text/plain": [
       "<keras.callbacks.History at 0x7f77b4014610>"
      ]
     },
     "execution_count": 4,
     "metadata": {},
     "output_type": "execute_result"
    }
   ],
   "source": [
    "import tensorflow as tf\n",
    "from tensorflow.keras import Sequential\n",
    "from tensorflow.keras.layers import Dense\n",
    "from tensorflow.keras.losses import SparseCategoricalCrossentropy\n",
    "\n",
    "model = Sequential ([\n",
    "    Dense(units=784, activation='relu'),\n",
    "    Dense(units=196, activation='relu'),\n",
    "    Dense(units=49, activation='relu'),\n",
    "    Dense(units=25, activation='relu'),\n",
    "    Dense(units=10, activation='linear')\n",
    "])\n",
    "\n",
    "model.compile(optimizer=tf.keras.optimizers.Adam(learning_rate=1e-3),loss=tf.keras.losses.SparseCategoricalCrossentropy(from_logits=True))\n",
    "\n",
    "model.fit(X,y,epochs=15)"
   ]
  },
  {
   "cell_type": "code",
   "execution_count": 5,
   "id": "555fa36a",
   "metadata": {
    "execution": {
     "iopub.execute_input": "2023-01-21T20:56:39.575396Z",
     "iopub.status.busy": "2023-01-21T20:56:39.574248Z",
     "iopub.status.idle": "2023-01-21T20:56:41.822498Z",
     "shell.execute_reply": "2023-01-21T20:56:41.821278Z"
    },
    "papermill": {
     "duration": 2.387545,
     "end_time": "2023-01-21T20:56:41.825069",
     "exception": false,
     "start_time": "2023-01-21T20:56:39.437524",
     "status": "completed"
    },
    "tags": []
   },
   "outputs": [
    {
     "data": {
      "text/plain": [
       "<bound method NDFrame.head of        pixel0  pixel1  pixel2  pixel3  pixel4  pixel5  pixel6  pixel7  pixel8  \\\n",
       "0           0       0       0       0       0       0       0       0       0   \n",
       "1           0       0       0       0       0       0       0       0       0   \n",
       "2           0       0       0       0       0       0       0       0       0   \n",
       "3           0       0       0       0       0       0       0       0       0   \n",
       "4           0       0       0       0       0       0       0       0       0   \n",
       "...       ...     ...     ...     ...     ...     ...     ...     ...     ...   \n",
       "27995       0       0       0       0       0       0       0       0       0   \n",
       "27996       0       0       0       0       0       0       0       0       0   \n",
       "27997       0       0       0       0       0       0       0       0       0   \n",
       "27998       0       0       0       0       0       0       0       0       0   \n",
       "27999       0       0       0       0       0       0       0       0       0   \n",
       "\n",
       "       pixel9  ...  pixel774  pixel775  pixel776  pixel777  pixel778  \\\n",
       "0           0  ...         0         0         0         0         0   \n",
       "1           0  ...         0         0         0         0         0   \n",
       "2           0  ...         0         0         0         0         0   \n",
       "3           0  ...         0         0         0         0         0   \n",
       "4           0  ...         0         0         0         0         0   \n",
       "...       ...  ...       ...       ...       ...       ...       ...   \n",
       "27995       0  ...         0         0         0         0         0   \n",
       "27996       0  ...         0         0         0         0         0   \n",
       "27997       0  ...         0         0         0         0         0   \n",
       "27998       0  ...         0         0         0         0         0   \n",
       "27999       0  ...         0         0         0         0         0   \n",
       "\n",
       "       pixel779  pixel780  pixel781  pixel782  pixel783  \n",
       "0             0         0         0         0         0  \n",
       "1             0         0         0         0         0  \n",
       "2             0         0         0         0         0  \n",
       "3             0         0         0         0         0  \n",
       "4             0         0         0         0         0  \n",
       "...         ...       ...       ...       ...       ...  \n",
       "27995         0         0         0         0         0  \n",
       "27996         0         0         0         0         0  \n",
       "27997         0         0         0         0         0  \n",
       "27998         0         0         0         0         0  \n",
       "27999         0         0         0         0         0  \n",
       "\n",
       "[28000 rows x 784 columns]>"
      ]
     },
     "execution_count": 5,
     "metadata": {},
     "output_type": "execute_result"
    }
   ],
   "source": [
    "#logits=model(X)\n",
    "#f_x=tf.nn.softmax(logits)\n",
    "\n",
    "test_set = pd.read_csv(test)\n",
    "test_set.head"
   ]
  },
  {
   "cell_type": "code",
   "execution_count": 6,
   "id": "6d35428d",
   "metadata": {
    "execution": {
     "iopub.execute_input": "2023-01-21T20:56:42.097326Z",
     "iopub.status.busy": "2023-01-21T20:56:42.096896Z",
     "iopub.status.idle": "2023-01-21T20:56:44.304519Z",
     "shell.execute_reply": "2023-01-21T20:56:44.303144Z"
    },
    "papermill": {
     "duration": 2.349292,
     "end_time": "2023-01-21T20:56:44.307710",
     "exception": false,
     "start_time": "2023-01-21T20:56:41.958418",
     "status": "completed"
    },
    "tags": []
   },
   "outputs": [
    {
     "data": {
      "text/plain": [
       "array([-13.142834  ,  18.308008  ,  39.692436  , -37.580692  ,\n",
       "       -34.64886   ,   0.67567414,  -0.17035203, -25.472603  ,\n",
       "       -50.694946  , -51.67444   ], dtype=float32)"
      ]
     },
     "execution_count": 6,
     "metadata": {},
     "output_type": "execute_result"
    }
   ],
   "source": [
    "y_hat = model.predict(test_set)\n",
    "y_hat[0]"
   ]
  },
  {
   "cell_type": "code",
   "execution_count": 7,
   "id": "73fa5f32",
   "metadata": {
    "execution": {
     "iopub.execute_input": "2023-01-21T20:56:44.574087Z",
     "iopub.status.busy": "2023-01-21T20:56:44.573209Z",
     "iopub.status.idle": "2023-01-21T20:56:44.579533Z",
     "shell.execute_reply": "2023-01-21T20:56:44.578647Z"
    },
    "papermill": {
     "duration": 0.141646,
     "end_time": "2023-01-21T20:56:44.581807",
     "exception": false,
     "start_time": "2023-01-21T20:56:44.440161",
     "status": "completed"
    },
    "tags": []
   },
   "outputs": [],
   "source": [
    "pred=np.argmax(y_hat,axis=1)"
   ]
  },
  {
   "cell_type": "code",
   "execution_count": 8,
   "id": "9ff055a9",
   "metadata": {
    "execution": {
     "iopub.execute_input": "2023-01-21T20:56:44.849168Z",
     "iopub.status.busy": "2023-01-21T20:56:44.847757Z",
     "iopub.status.idle": "2023-01-21T20:56:44.884198Z",
     "shell.execute_reply": "2023-01-21T20:56:44.882817Z"
    },
    "papermill": {
     "duration": 0.172262,
     "end_time": "2023-01-21T20:56:44.886940",
     "exception": false,
     "start_time": "2023-01-21T20:56:44.714678",
     "status": "completed"
    },
    "tags": []
   },
   "outputs": [],
   "source": [
    "submission = pd.DataFrame({'ImageId': np.arange(1, 28001), 'Label': pred})\n",
    "submission.to_csv('/kaggle/working/submission.csv', index=False)"
   ]
  }
 ],
 "metadata": {
  "kernelspec": {
   "display_name": "Python 3",
   "language": "python",
   "name": "python3"
  },
  "language_info": {
   "codemirror_mode": {
    "name": "ipython",
    "version": 3
   },
   "file_extension": ".py",
   "mimetype": "text/x-python",
   "name": "python",
   "nbconvert_exporter": "python",
   "pygments_lexer": "ipython3",
   "version": "3.7.12"
  },
  "papermill": {
   "default_parameters": {},
   "duration": 141.276872,
   "end_time": "2023-01-21T20:56:48.622676",
   "environment_variables": {},
   "exception": null,
   "input_path": "__notebook__.ipynb",
   "output_path": "__notebook__.ipynb",
   "parameters": {},
   "start_time": "2023-01-21T20:54:27.345804",
   "version": "2.3.4"
  }
 },
 "nbformat": 4,
 "nbformat_minor": 5
}
